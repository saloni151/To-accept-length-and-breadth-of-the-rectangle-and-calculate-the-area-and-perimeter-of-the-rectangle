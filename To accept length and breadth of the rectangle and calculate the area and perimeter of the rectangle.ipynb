{
 "cells": [
  {
   "cell_type": "markdown",
   "id": "ce73c4e5-aea0-4b4f-b0f5-9af71deea597",
   "metadata": {},
   "source": [
    "**Write a python program which will accept length and breadth of the rectangle and calculate the area and perimeter of the rectangle**"
   ]
  },
  {
   "cell_type": "code",
   "execution_count": 1,
   "id": "874c92c6-28d4-481a-8369-4aedb0822f1a",
   "metadata": {},
   "outputs": [
    {
     "name": "stdin",
     "output_type": "stream",
     "text": [
      "Enter the Length value l: 5\n"
     ]
    }
   ],
   "source": [
    "#Entering the length value of the rectangle from the user\n",
    "l=float(input(\"Enter the Length value l:\"))"
   ]
  },
  {
   "cell_type": "code",
   "execution_count": 2,
   "id": "ae086377-b477-4314-93c7-d38ba6ab1038",
   "metadata": {},
   "outputs": [
    {
     "name": "stdin",
     "output_type": "stream",
     "text": [
      "Enter the breadth value b: 6\n"
     ]
    }
   ],
   "source": [
    "#Entering the bredth value of the rectangle from the user\n",
    "b=float(input(\"Enter the breadth value b:\"))"
   ]
  },
  {
   "cell_type": "code",
   "execution_count": 3,
   "id": "98d56177-3943-4a50-8517-5831958592f4",
   "metadata": {},
   "outputs": [],
   "source": [
    "#To calculate the area of the rectangle\n",
    "a=l*b"
   ]
  },
  {
   "cell_type": "code",
   "execution_count": 4,
   "id": "b53e821a-3c03-40f9-acd4-ad19f7147c10",
   "metadata": {},
   "outputs": [],
   "source": [
    "#To calculate the perimeter of the rectangle\n",
    "p=2*(l+b)"
   ]
  },
  {
   "cell_type": "code",
   "execution_count": 5,
   "id": "9e0eed1f-84e9-4565-9ca9-de195c1a3981",
   "metadata": {},
   "outputs": [
    {
     "name": "stdout",
     "output_type": "stream",
     "text": [
      "The length (l) of the rectangle is: 5.0\n"
     ]
    }
   ],
   "source": [
    "#To display the length value (l) of rectangle taken from the user\n",
    "print(\"The length (l) of the rectangle is: {}\".format(l))"
   ]
  },
  {
   "cell_type": "code",
   "execution_count": 6,
   "id": "2f525d93-4e34-480f-8faf-2954c40abd7c",
   "metadata": {},
   "outputs": [
    {
     "name": "stdout",
     "output_type": "stream",
     "text": [
      "The breadth (b) of the rectangle is: 6.0\n"
     ]
    }
   ],
   "source": [
    "#To display the breadth value (b) of rectangle taken from the user\n",
    "print(\"The breadth (b) of the rectangle is: {}\".format(b))"
   ]
  },
  {
   "cell_type": "code",
   "execution_count": 7,
   "id": "4ff7f1d1-c3ab-4045-8291-b0da771b8037",
   "metadata": {},
   "outputs": [
    {
     "name": "stdout",
     "output_type": "stream",
     "text": [
      " The area of the rectangle (a) is: 30.0\n"
     ]
    }
   ],
   "source": [
    "#To display the area of the rectangle\n",
    "print(\" The area of the rectangle (a) is: {}\".format(a))"
   ]
  },
  {
   "cell_type": "code",
   "execution_count": 8,
   "id": "1e01b66b-7790-4c08-9a65-95575eae5b8d",
   "metadata": {},
   "outputs": [
    {
     "name": "stdout",
     "output_type": "stream",
     "text": [
      " The perimeter of the rectangle (p) is: 22.0\n"
     ]
    }
   ],
   "source": [
    "#To display the perimeter of the rectangle\n",
    "print(\" The perimeter of the rectangle (p) is: {}\".format(p))"
   ]
  },
  {
   "cell_type": "code",
   "execution_count": null,
   "id": "b4319722-6136-4d8c-9928-a5db346c9390",
   "metadata": {},
   "outputs": [],
   "source": []
  },
  {
   "cell_type": "code",
   "execution_count": null,
   "id": "6a1793c1-b9e8-4036-91d4-2a1174cdbafc",
   "metadata": {},
   "outputs": [],
   "source": []
  },
  {
   "cell_type": "code",
   "execution_count": null,
   "id": "68318df2-b896-4ee3-9f85-665b82173adf",
   "metadata": {},
   "outputs": [],
   "source": []
  },
  {
   "cell_type": "code",
   "execution_count": null,
   "id": "9e190469-2453-45ff-b0df-cdd8fe8d22fe",
   "metadata": {},
   "outputs": [],
   "source": []
  },
  {
   "cell_type": "code",
   "execution_count": null,
   "id": "64460f49-06c0-4809-935e-a2d1115508a3",
   "metadata": {},
   "outputs": [],
   "source": []
  },
  {
   "cell_type": "code",
   "execution_count": null,
   "id": "1a181503-9481-4292-a54d-619fdf4c663d",
   "metadata": {},
   "outputs": [],
   "source": []
  },
  {
   "cell_type": "code",
   "execution_count": null,
   "id": "e9cc7dc8-b6e9-4c70-9cbc-e5a1fd16ba44",
   "metadata": {},
   "outputs": [],
   "source": []
  },
  {
   "cell_type": "code",
   "execution_count": null,
   "id": "5afc368e-2732-4af4-a4b5-c3cacaea48ed",
   "metadata": {},
   "outputs": [],
   "source": []
  },
  {
   "cell_type": "code",
   "execution_count": null,
   "id": "fdafc516-af88-4936-8c7d-83beb27b4c6b",
   "metadata": {},
   "outputs": [],
   "source": []
  },
  {
   "cell_type": "code",
   "execution_count": null,
   "id": "97e19a67-112b-441b-acc4-417c541faaa7",
   "metadata": {},
   "outputs": [],
   "source": []
  },
  {
   "cell_type": "code",
   "execution_count": null,
   "id": "60450c3b-2400-44f0-831b-8cd92a423cb8",
   "metadata": {},
   "outputs": [],
   "source": []
  },
  {
   "cell_type": "code",
   "execution_count": null,
   "id": "4ab68f6d-7e82-4105-9df2-fbf885f2f411",
   "metadata": {},
   "outputs": [],
   "source": []
  }
 ],
 "metadata": {
  "kernelspec": {
   "display_name": "Python 3 (ipykernel)",
   "language": "python",
   "name": "python3"
  },
  "language_info": {
   "codemirror_mode": {
    "name": "ipython",
    "version": 3
   },
   "file_extension": ".py",
   "mimetype": "text/x-python",
   "name": "python",
   "nbconvert_exporter": "python",
   "pygments_lexer": "ipython3",
   "version": "3.12.7"
  }
 },
 "nbformat": 4,
 "nbformat_minor": 5
}
